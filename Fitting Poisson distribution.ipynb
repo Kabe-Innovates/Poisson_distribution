{
 "cells": [
  {
   "cell_type": "code",
   "execution_count": 2,
   "id": "6344a59e",
   "metadata": {},
   "outputs": [],
   "source": [
    "import numpy as np\n",
    "import math\n",
    "from scipy.stats import chi2"
   ]
  },
  {
   "cell_type": "code",
   "execution_count": 3,
   "id": "64639952",
   "metadata": {},
   "outputs": [],
   "source": [
    "\n",
    "# Step 1: Input data\n",
    "data = list(map(int, input(\"Enter space-separated frequency values: \").split()))\n"
   ]
  },
  {
   "cell_type": "code",
   "execution_count": 4,
   "id": "7d326b3d",
   "metadata": {},
   "outputs": [],
   "source": [
    "\n",
    "# Step 2: Basic statistics\n",
    "N = len(data)\n",
    "max_val = max(data)\n",
    "\n",
    "# Step 3: Frequency distribution (Observed)\n",
    "observed_freq = [data.count(i) for i in range(max_val + 1)]\n",
    "X = list(range(max_val + 1))  # X values\n",
    "total_freq = sum(observed_freq)\n",
    "\n",
    "# Step 4: Probability for each X based on observed data\n",
    "prob_obs = [f / total_freq for f in observed_freq]\n",
    "\n",
    "# Step 5: Compute mean (λ for Poisson) using dot product\n",
    "mean = np.inner(X, prob_obs)\n"
   ]
  },
  {
   "cell_type": "code",
   "execution_count": 5,
   "id": "a675623d",
   "metadata": {},
   "outputs": [
    {
     "name": "stdout",
     "output_type": "stream",
     "text": [
      "\n",
      "X\tP(X=x)\tObs.Freq\tExp.Freq\tChi^2\n",
      "--------------------------------------------------\n",
      "0\t0.0213\t       1\t     0.43\t   0.78\n",
      "1\t0.0819\t       2\t     1.64\t   0.08\n",
      "2\t0.1577\t       2\t     3.15\t   0.42\n",
      "3\t0.2024\t       5\t     4.05\t   0.22\n",
      "4\t0.1948\t       1\t     3.90\t   2.15\n",
      "5\t0.1500\t       5\t     3.00\t   1.33\n",
      "6\t0.0962\t       1\t     1.92\t   0.44\n",
      "7\t0.0529\t       3\t     1.06\t   3.56\n"
     ]
    }
   ],
   "source": [
    "\n",
    "# Step 6: Compute expected probabilities & expected frequencies under Poisson\n",
    "expected_probs = []\n",
    "expected_freq = []\n",
    "chi_sq_components = []\n",
    "\n",
    "print(\"\\nX\\tP(X=x)\\tObs.Freq\\tExp.Freq\\tChi^2\")\n",
    "print(\"-\" * 50)\n",
    "\n",
    "for x in X:\n",
    "    # Poisson probability formula: P(X = x) = e^(-λ) * λ^x / x!\n",
    "    poisson_prob = math.exp(-mean) * (mean ** x) / math.factorial(x)\n",
    "    exp_freq = poisson_prob * total_freq\n",
    "    chi_sq = ((observed_freq[x] - exp_freq) ** 2) / exp_freq if exp_freq > 0 else 0\n",
    "\n",
    "    expected_probs.append(poisson_prob)\n",
    "    expected_freq.append(exp_freq)\n",
    "    chi_sq_components.append(chi_sq)\n",
    "\n",
    "    print(f\"{x}\\t{poisson_prob:.4f}\\t{observed_freq[x]:>8}\\t{exp_freq:>9.2f}\\t{chi_sq:>7.2f}\")\n"
   ]
  },
  {
   "cell_type": "code",
   "execution_count": 6,
   "id": "b9912e34",
   "metadata": {},
   "outputs": [],
   "source": [
    "\n",
    "# Step 7: Calculate total Chi-square value\n",
    "calculated_chi_sq = sum(chi_sq_components)\n",
    "degrees_of_freedom = max_val  # df = number of classes - 1 - number of estimated parameters (mean estimated → df = k - 1 - 1)\n",
    "table_chi_sq = chi2.ppf(1 - 0.01, df=degrees_of_freedom)\n"
   ]
  },
  {
   "cell_type": "code",
   "execution_count": 7,
   "id": "6afbf75a",
   "metadata": {},
   "outputs": [
    {
     "name": "stdout",
     "output_type": "stream",
     "text": [
      "--------------------------------------------------\n",
      "Calculated Chi-square value: 8.9913\n",
      "Critical Chi-square value (1% LOS, df=7): 18.4753\n",
      "✅ The data *fits* the Poisson distribution at 1% level of significance.\n"
     ]
    }
   ],
   "source": [
    "\n",
    "# Step 8: Hypothesis Testing\n",
    "print(\"-\" * 50)\n",
    "print(f\"Calculated Chi-square value: {calculated_chi_sq:.4f}\")\n",
    "print(f\"Critical Chi-square value (1% LOS, df={degrees_of_freedom}): {table_chi_sq:.4f}\")\n",
    "\n",
    "if calculated_chi_sq < table_chi_sq:\n",
    "    print(\"✅ The data *fits* the Poisson distribution at 1% level of significance.\")\n",
    "else:\n",
    "    print(\"❌ The data *does not fit* the Poisson distribution at 1% level of significance.\")\n"
   ]
  }
 ],
 "metadata": {
  "kernelspec": {
   "display_name": "base",
   "language": "python",
   "name": "python3"
  },
  "language_info": {
   "codemirror_mode": {
    "name": "ipython",
    "version": 3
   },
   "file_extension": ".py",
   "mimetype": "text/x-python",
   "name": "python",
   "nbconvert_exporter": "python",
   "pygments_lexer": "ipython3",
   "version": "3.11.3"
  }
 },
 "nbformat": 4,
 "nbformat_minor": 5
}
